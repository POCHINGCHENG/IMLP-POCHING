{
 "cells": [
  {
   "cell_type": "markdown",
   "metadata": {},
   "source": [
    "# Python programming \n",
    "## Crash Course on Python Coding Practice\n",
    "\n",
    "No matter the level of mastery you hope to get to in Python,<br> \n",
    "you'll need these fundamentals in place before you jump into any project.<br><br>\n",
    "\n",
    "You need to know how to:\n",
    "\n",
    "- declare variables\n",
    "- collect user input\n",
    "- store information\n",
    "- repeat an action through loops\n",
    "- write functions to repeat blocks of code\n"
   ]
  },
  {
   "cell_type": "markdown",
   "metadata": {},
   "source": [
    "### 01 - 奇偶數辨別（Odd or even）\n",
    "#### 當使用者輸入一個的數字，它能夠辨別奇偶，並輸出檢驗結果給使用者。\n",
    "\n",
    "> 題目：輸入一數字判斷奇數或偶數<br>\n",
    "輸入(Input): 一個數字 <br>\n",
    "輸出(Output):奇數或偶數\n",
    "\n",
    "* 進階: 可以限制輸入一個介於一定範圍（例如 1 到 1000）的數字"
   ]
  },
  {
   "cell_type": "code",
   "execution_count": 23,
   "metadata": {
    "scrolled": true
   },
   "outputs": [
    {
     "name": "stdin",
     "output_type": "stream",
     "text": [
      "請輸入一個介於 1 到 1000 之間的數字:  53\n"
     ]
    },
    {
     "name": "stdout",
     "output_type": "stream",
     "text": [
      "輸入的是奇數\n"
     ]
    }
   ],
   "source": [
    "x = int(input(\"請輸入一個介於 1 到 1000 之間的數字: \"))# 輸入一數字\n",
    "\n",
    "if 1 <= x <= 1000: # 確認數字在範圍內\n",
    "    # 判斷奇數或偶數\n",
    "    if x % 2 == 0:\n",
    "        print('你輸入的是偶數')\n",
    "    else:\n",
    "        print('輸入的是奇數')\n",
    "else:\n",
    "    print(\"輸入的數字不在範圍內，請重新輸入。\")"
   ]
  },
  {
   "cell_type": "markdown",
   "metadata": {},
   "source": [
    "### 02 - 填字遊戲（Mad libs game）\n",
    "#### 使用者輸入任何字，它可以是名詞、形容詞、動詞、代名詞等。程式得到文字後，可自行排列，組成成一個模板故事。\n",
    "\n",
    "> 題目：輸入一連串對應要求的文字<br>\n",
    "輸入(Input): 一連串依據說明輸入對應文字 <br>\n",
    "輸出(Output): 模板故事\n",
    "\n",
    "* 進階: 可以讓程式重複執行"
   ]
  },
  {
   "cell_type": "code",
   "execution_count": 25,
   "metadata": {},
   "outputs": [
    {
     "name": "stdin",
     "output_type": "stream",
     "text": [
      "執行次數:  2\n",
      "報名日期 dd/mm/yyyy:  03/08/2025\n",
      "請輸入課程名稱:  python入門\n",
      "請輸入學員名稱:  鄭伯經\n",
      "請輸入年齡:  37\n",
      "參與課程原因:  進修\n",
      "連繫電話:  0908162524\n"
     ]
    },
    {
     "name": "stdout",
     "output_type": "stream",
     "text": [
      "-----------------------------\n",
      "恭喜您已於 03/08/2025 完成報名,\n",
      "歡迎 鄭伯經 報名參加 python入門\n",
      "我們會指派專人以 0908162524 聯繫您\n"
     ]
    },
    {
     "name": "stdin",
     "output_type": "stream",
     "text": [
      "報名日期 dd/mm/yyyy:  03/88/2025\n",
      "請輸入課程名稱:  pythong\n",
      "請輸入學員名稱:  xxx\n",
      "請輸入年齡:  24\n",
      "參與課程原因:  進修\n",
      "連繫電話:  0908156245\n"
     ]
    },
    {
     "name": "stdout",
     "output_type": "stream",
     "text": [
      "-----------------------------\n",
      "恭喜您已於 03/88/2025 完成報名,\n",
      "歡迎 xxx 報名參加 pythong\n",
      "我們會指派專人以 0908156245 聯繫您\n"
     ]
    }
   ],
   "source": [
    "n = int(input(\"執行次數: \"))  \n",
    "for i in range(n):\n",
    "    surveydate = input(\"報名日期 dd/mm/yyyy: \")\n",
    "    classname = input(\"請輸入課程名稱: \")\n",
    "    name = input(\"請輸入學員名稱: \")\n",
    "    age = input(\"請輸入年齡: \")\n",
    "    purpose = input(\"參與課程原因: \")\n",
    "    phonenumber = input(\"連繫電話: \")\n",
    "\n",
    "    print(\"-----------------------------\")\n",
    "    print(\"恭喜您已於\", surveydate, \"完成報名,\")\n",
    "    print(\"歡迎\", name, \"報名參加\", classname)\n",
    "    print(\"我們會指派專人以\", phonenumber, \"聯繫您\")\n"
   ]
  },
  {
   "cell_type": "markdown",
   "metadata": {},
   "source": [
    "### 03 -  猜數字（Guess the number）\n",
    "#### 請使用者猜一個介於範圍（例如 1 到 100）之間的數字，\n",
    "#### 若使用者猜錯，就詢問他們想繼續玩還是退出；若使用者猜對，就顯示祝賀訊息，\n",
    "#### 並統計使用者的嘗試次數。如果使用者輸入的數字超出設定範圍，就顯示錯誤提示。\n",
    "\n",
    "![](data\\guess.png)\n"
   ]
  },
  {
   "cell_type": "code",
   "execution_count": 1,
   "metadata": {},
   "outputs": [
    {
     "name": "stdout",
     "output_type": "stream",
     "text": [
      "請猜一個介於 1 到 100 之間的數字！\n"
     ]
    },
    {
     "name": "stdin",
     "output_type": "stream",
     "text": [
      "請輸入你的猜測： 2\n"
     ]
    },
    {
     "name": "stdout",
     "output_type": "stream",
     "text": [
      "你猜的數字太小了，再試一次！\n"
     ]
    },
    {
     "name": "stdin",
     "output_type": "stream",
     "text": [
      "你想繼續猜嗎？(y/n):  y\n",
      "請輸入你的猜測： 10\n"
     ]
    },
    {
     "name": "stdout",
     "output_type": "stream",
     "text": [
      "恭喜！你猜對了，答案是 10！\n",
      "你總共猜了 2 次。\n"
     ]
    }
   ],
   "source": [
    "target_number = 10\n",
    "attempts = 0\n",
    "\n",
    "print(\"請猜一個介於 1 到 100 之間的數字！\")\n",
    "\n",
    "while True:\n",
    "    guess = int(input(\"請輸入你的猜測：\"))\n",
    "    attempts += 1\n",
    "\n",
    "    if guess == target_number:\n",
    "        print(f\"恭喜！你猜對了，答案是 {target_number}！\")\n",
    "        print(f\"你總共猜了 {attempts} 次。\")\n",
    "        break\n",
    "\n",
    "    elif guess > target_number:\n",
    "        print(\"你猜的數字太大了，再試一次！\")\n",
    "    else:\n",
    "        print(\"你猜的數字太小了，再試一次！\")\n",
    "\n",
    "    play_again = input(\"你想繼續猜嗎？(y/n): \").lower()\n",
    "    if play_again != 'y':\n",
    "        print(\"感謝遊玩，再見！\")\n",
    "        break"
   ]
  },
  {
   "cell_type": "code",
   "execution_count": null,
   "metadata": {},
   "outputs": [],
   "source": []
  },
  {
   "cell_type": "markdown",
   "metadata": {},
   "source": [
    "### 04 - 計算字數（Word count）\n",
    "#### 使用者輸入一段文字或讀取一檔案，程式統計字數。\n",
    "\n",
    "> 輸入(Input):我要成為寫程式的專家 <br>\n",
    "輸出(Output):你用了 10 個文字述說內心的想法\n",
    "\n",
    "#### 在特定的文章字串中搜尋輸入的特定字，請使用者輸入欲搜尋的文字，印出總共有幾個。<br>\n",
    ">輸入(Input):天<br>\n",
    "輸出(Output): 9\n",
    "\n",
    "* 進階:計算文章中去除標點符號後的字數，找出文章中出現最多的字與次數"
   ]
  },
  {
   "cell_type": "code",
   "execution_count": 3,
   "metadata": {},
   "outputs": [
    {
     "name": "stdin",
     "output_type": "stream",
     "text": [
      "請輸入欲統計字數之文字 我要成為寫程式的專家\n"
     ]
    },
    {
     "name": "stdout",
     "output_type": "stream",
     "text": [
      "你用了 10 個文字述說內心的想法\n"
     ]
    },
    {
     "name": "stdin",
     "output_type": "stream",
     "text": [
      "請輸入文章:  漢皇重色思傾國，御宇多年求不得。  楊家有女初長成，養在深閏人未識。  天生麗質難自棄，一朝選在君王側。  回眸一笑百媚生，六宮粉黛無顏色。  春寒賜浴華清池，溫泉水滑洗凝脂；  侍兒扶起嬌無力，始是新承恩澤時。  雲鬢花顏金步搖，芙蓉帳暖度春宵；  春宵苦短日高起，從此君王不早朝。  承歡侍宴無閑暇，春從春遊夜專夜。  後宮佳麗三千人，三千寵愛在一身。  金屋妝成嬌侍夜，玉樓宴罷醉和春。  姊妹弟兄皆列士，可憐光彩生門戶。  遂令天下父母心，不重生男重生女。  驪宮高處入青雲，仙樂風飄處處聞。  緩歌慢舞凝絲竹，盡日君王看不足。  漁陽鼙鼓動地來，驚破霓裳羽衣曲。  九重城闕煙塵生，千乘萬騎西南行。  翠華搖搖行復止，西出都門百餘里；  六軍不發無奈何？宛轉蛾眉馬前死。  花鈿委地無人收，翠翹金雀玉搔頭。  君王掩面救不得，回看血淚相和流。  黃埃散漫風蕭索，雲棧縈紆登劍閣。  峨嵋山下少人行，旌旗無光日色薄。  蜀江水碧蜀山青，聖主朝朝暮暮情。  行宮見月傷心色，夜雨聞鈴腸斷聲。  天旋地轉迴龍馭，到此躊躇不能去。  馬嵬坡下泥土中，不見玉顏空死處。  君臣相顧盡霑衣，東望都門信馬歸。  歸來池苑皆依舊，太液芙蓉未央柳；  芙蓉如面柳如眉，對此如何不淚垂？  春風桃李花開日，秋雨梧桐葉落時。  西宮南內多秋草，落葉滿階紅不掃。  梨園子弟白髮新，椒房阿監青娥老。  夕殿螢飛思悄然，孤燈挑盡未成眠。  遲遲鐘鼓初長夜，耿耿星河欲曙天。  鴛鴦瓦冷霜華重，翡翠衾寒誰與共？  悠悠生死別經年，魂魄不曾來入夢。  臨邛道士鴻都客，能以精誠致魂魄；  為感君王輾轉思，遂教方士殷勤覓。  排空馭氣奔如電，升天入地求之遍；  上窮碧落下黃泉，兩處茫茫皆不見。  忽聞海上有仙山，山在虛無縹緲間。  樓閣玲瓏五雲起，其中綽約多仙子。  中有一人字太真，雪膚花貌參差是。  金闕西廂叩玉扃，轉教小玉報雙成。  聞道漢家天子使，九華帳裡夢魂驚；  攬衣推枕起徘徊，珠箔銀屏迤邐開。  雲鬢半偏新睡覺，花冠不整下堂來。  風吹仙袂飄飄舉，猶似霓裳羽衣舞。  玉容寂寞淚闌干，梨花一枝春帶雨。  含情凝睇謝君王，一別音容兩渺茫。  昭陽殿裡恩愛絕，蓬萊宮中日月長。  回頭下望人寰處，不見長安見塵霧。  唯將舊物表深情，鈿合金釵寄將去。  釵留一股合一扇，釵擘黃金合分鈿。  但教心似金鈿堅，天上人間會相見。  臨別殷勤重寄詞，詞中有誓兩心知，  七月七日長生殿，夜半無人私語時：「  在天願作比翼鳥，在地願為連理枝。」  天長地久有時盡，此恨綿綿無絕期。\n",
      "要計算出現次數的文字:  天\n"
     ]
    },
    {
     "name": "stdout",
     "output_type": "stream",
     "text": [
      "天 在文章中出現的次數: 9\n"
     ]
    }
   ],
   "source": [
    "word = input(\"請輸入欲統計字數之文字\")\n",
    "a=len(word)\n",
    "print(\"你用了\",a,\"個文字述說內心的想法\")    #print(\"你用了%d個文字述說內心的想法\")%dlen(word))\n",
    "\n",
    "import re\n",
    "\n",
    "article = input(\"請輸入文章: \")\n",
    "a = input(\"要計算出現次數的文字: \")\n",
    "\n",
    "# 使用 re.sub 移除標點符號\n",
    "article = re.sub(r\"[^\\w\\s]\", \"\", article)\n",
    "\n",
    "s_sum = article.count(a)\n",
    "print(a, \"在文章中出現的次數:\", s_sum)"
   ]
  },
  {
   "cell_type": "markdown",
   "metadata": {},
   "source": [
    "### 05 - Email 域名判斷器（Email slicer）\n",
    "#### 請用戶輸入 Email 地址，然後判斷它是自定義域名還是熱門域名。\n",
    "\n",
    "> 題目：<br>\n",
    "輸入(Input):shelly200318@hotmail.com.tw  <br>\n",
    "輸出(Output):Your username is 'shelly200318' and your domain name is 'hotmail.com.tw' <br>\n",
    "\n",
    "\n",
    "* 進階：把常用的信箱存成字典，加入判斷是否為\n",
    ">輸入(Input):mary.jane@gmail.com  <br>\n",
    "輸出(Output):這是註冊在 Google 之下的 Email 地址 <br>\n",
    "輸入(Input):matt.pan@myfantasy.com  <br>\n",
    "輸出(Output):這是在 myfantasy 之下自定義域\n",
    "\n"
   ]
  },
  {
   "cell_type": "code",
   "execution_count": 11,
   "metadata": {},
   "outputs": [
    {
     "name": "stdin",
     "output_type": "stream",
     "text": [
      "請輸入 Email 地址:  parker@yahoo.com.tw\n"
     ]
    },
    {
     "name": "stdout",
     "output_type": "stream",
     "text": [
      "Your username is 'parker' and your domain name is 'yahoo.com.tw'\n"
     ]
    }
   ],
   "source": [
    "# 使用者輸入 Email\n",
    "email = input(\"請輸入 Email 地址: \")\n",
    "\n",
    "# 使用 @ 分割 Email\n",
    "if \"@\" in email:\n",
    "    username, domain = email.split(\"@\")#自@切割成username跟domain\n",
    "    \n",
    "    print(f\"Your username is '{username}' and your domain name is '{domain}'\")"
   ]
  },
  {
   "cell_type": "markdown",
   "metadata": {},
   "source": [
    "### 06 - 及格名單（Pass list）\n",
    "#### 請使用集合功能來完成各科級名單的判斷\n",
    "```\n",
    "米花市帝丹小學一年级B班正舉辦期中考試\n",
    "數學及格的有：柯南、灰原、步美、美環、光彦\n",
    "英文及格的有：柯南、灰原、丸尾、野口、步美\n",
    "以上已列出全班所有人\n",
    "```\n",
    "\n",
    ">請分別列出<br>\n",
    "數學及格但英文不及格的同學名單<br>\n",
    "數學不及格但英文及格的同學名單<br>\n",
    "兩者皆及格名單<br>\n",
    "* Hint:差集(減法)、交集\n"
   ]
  },
  {
   "cell_type": "code",
   "execution_count": 1,
   "metadata": {},
   "outputs": [
    {
     "name": "stdin",
     "output_type": "stream",
     "text": [
      "請輸入數學及格名單（用逗號分隔）： 柯南,灰原,步美,美環,光彦\n",
      "請輸入英文及格名單（用逗號分隔）： 柯南,灰原,丸尾,野口,步美\n"
     ]
    },
    {
     "name": "stdout",
     "output_type": "stream",
     "text": [
      "全班名單: {'光彦', '灰原', '柯南', '美環', '丸尾', '步美', '野口'}\n",
      "恭喜全部合格: {'灰原', '柯南', '步美'}\n",
      "數學合格但英文不合格: {'美環', '光彦'}\n",
      "英文合格但數學不合格: {'丸尾', '野口'}\n"
     ]
    }
   ],
   "source": [
    "# 請輸入數學及格名單和英文及格名單\n",
    "m = set(input(\"請輸入數學及格名單（用逗號分隔）：\").split(','))\n",
    "e = set(input(\"請輸入英文及格名單（用逗號分隔）：\").split(','))\n",
    "\n",
    "# 全部合格 (數學和英文都及格)\n",
    "a = m.intersection(e)\n",
    "\n",
    "# 全班名單 (數學及格或英文及格)\n",
    "b = m.union(e)\n",
    "\n",
    "# 數學合格但英文不合格\n",
    "c = m.difference(a)\n",
    "\n",
    "# 英文合格但數學不合格\n",
    "d = e.difference(a)\n",
    "\n",
    "# 輸出結果\n",
    "print(\"全班名單:\", b)\n",
    "print(\"恭喜全部合格:\", a)\n",
    "print(\"數學合格但英文不合格:\", c)\n",
    "print(\"英文合格但數學不合格:\", d)"
   ]
  },
  {
   "cell_type": "markdown",
   "metadata": {},
   "source": [
    "### 07 - 查詢路徑下所有檔案\n",
    "#### 請使用者輸入路徑，自動抓取路徑下所有檔案名稱\n",
    "\n",
    ">輸入(Input):data\\testfile 或 D:\\code\\ML_202105\\data\\testfile  <br>\n",
    "輸出(Output):\n",
    "```\n",
    "I'm a directory: file1\n",
    "I'm a directory: file2\n",
    "I'm a File: hw_07945001.txt\n",
    "I'm a File: hw_079450010.doc\n",
    "I'm a File: hw_07945002.txt\n",
    "I'm a File: hw_07945003.txt\n",
    "I'm a File: hw_07945004.txt\n",
    "I'm a File: hw_07945005.txt\n",
    "I'm a File: hw_07945007.txt\n",
    "I'm a File: hw_07945008.txt\n",
    "I'm a File: hw_07945009.txt\n",
    "```\n",
    "\n",
    "* 進階: 把file的學號抓出來，另存成一個新的csv檔"
   ]
  },
  {
   "cell_type": "code",
   "execution_count": 7,
   "metadata": {},
   "outputs": [
    {
     "name": "stdin",
     "output_type": "stream",
     "text": [
      "請輸入檔案路徑： C:\\Users\\a0986\\Python\\Unit01\\testfile\n"
     ]
    },
    {
     "name": "stdout",
     "output_type": "stream",
     "text": [
      "I'm a directory: file1\n",
      "I'm a directory: file2\n",
      "I'm a File: hw_07945001.txt\n",
      "I'm a File: hw_079450010.doc\n",
      "I'm a File: hw_07945002.txt\n",
      "I'm a File: hw_07945003.txt\n",
      "I'm a File: hw_07945004.txt\n",
      "I'm a File: hw_07945005.txt\n",
      "I'm a File: hw_07945007.txt\n",
      "I'm a File: hw_07945008.txt\n",
      "I'm a File: hw_07945009.txt\n",
      "學號已經儲存到：C:\\Users\\a0986\\Python\\Unit01\\testfile\\student_ids.csv\n"
     ]
    }
   ],
   "source": [
    "import os\n",
    "import re\n",
    "import csv\n",
    "\n",
    "# 讓使用者輸入路徑\n",
    "path = input(\"請輸入檔案路徑：\")\n",
    "\n",
    "# 檢查路徑是否存在\n",
    "if os.path.exists(path):\n",
    "    # 用來存儲學號的列表\n",
    "    student_ids = []\n",
    "\n",
    "    # 遍歷該路徑下的所有檔案和資料夾\n",
    "    for item in os.listdir(path):\n",
    "        item_path = os.path.join(path, item)  # 取得完整路徑\n",
    "\n",
    "        if os.path.isdir(item_path):\n",
    "            print(f\"I'm a directory: {item}\")  # 如果是資料夾\n",
    "        elif os.path.isfile(item_path):\n",
    "            print(f\"I'm a File: {item}\")  # 如果是檔案\n",
    "\n",
    "            # 用正則表達式提取學號 (例如 hw_07945001.txt 中的 07945001)\n",
    "            match = re.search(r\"hw_(\\d{8})\", item)\n",
    "            if match:\n",
    "                student_ids.append(match.group(1))  # 提取學號並加入列表\n",
    "\n",
    "    # 如果有學號，將它們寫入 CSV 檔案\n",
    "    if student_ids:\n",
    "        csv_file_path = os.path.join(path, \"student_ids.csv\")  # 保存的 CSV 路徑\n",
    "        with open(csv_file_path, mode='w', newline='') as file:\n",
    "            writer = csv.writer(file)\n",
    "            writer.writerow([\"Student ID\"])  # 寫入標題列\n",
    "            for student_id in student_ids:\n",
    "                writer.writerow([student_id])  # 寫入每個學號\n",
    "\n",
    "        print(f\"學號已經儲存到：{csv_file_path}\")\n",
    "else:\n",
    "    print(\"輸入的路徑不存在！\")"
   ]
  },
  {
   "cell_type": "markdown",
   "metadata": {},
   "source": [
    "### 08 - 資料夾管理(shutil)\n",
    "#### 說明 ####\n",
    "\n",
    "```\n",
    "在目前所在的目錄下建立一files資料夾\n",
    "\n",
    "令使用者輸入一數字N，並在files資料夾中建立f1, f2… fN等N個資料夾後列出files的資料夾內容\n",
    "\n",
    "將files資料夾裡的f1資料夾重新命名成folder1後再列出files的資料夾內容\n",
    "\n",
    "移除files資料夾中的folder1後再列出files的資料夾內容\n",
    "\n",
    "最後移除files資料夾\n",
    "※須先退出files資料夾(os.chdir(../)) ![image.png](attachment:image.png)\n",
    "```\n"
   ]
  },
  {
   "cell_type": "code",
   "execution_count": 15,
   "metadata": {},
   "outputs": [
    {
     "name": "stdin",
     "output_type": "stream",
     "text": [
      "請輸入一個數字 N，來創建 N 個資料夾： 2\n"
     ]
    },
    {
     "name": "stdout",
     "output_type": "stream",
     "text": [
      "\n",
      "Files 目錄的內容：\n",
      "['f1', 'f2']\n",
      "\n",
      "Files 目錄的內容（重命名 f1 為 folder1 後）：\n",
      "['f2', 'folder1']\n",
      "\n",
      "Files 目錄的內容（刪除 folder1 後）：\n",
      "['f2']\n",
      "\n",
      "已經成功刪除 files 資料夾\n"
     ]
    }
   ],
   "source": [
    "import os\n",
    "import shutil\n",
    "\n",
    "# 指定目錄路徑\n",
    "base_path = r\"C:\\Users\\a0986\\Python\\Unit01\"\n",
    "\n",
    "# 創建 files 資料夾\n",
    "os.makedirs(os.path.join(base_path, \"files\"), exist_ok=True)\n",
    "\n",
    "# 讓使用者輸入一個數字 N\n",
    "N = int(input(\"請輸入一個數字 N，來創建 N 個資料夾：\"))\n",
    "\n",
    "# 創建 f1, f2, ..., fN 資料夾\n",
    "for i in range(1, N + 1):\n",
    "    os.makedirs(os.path.join(base_path, \"files\", f\"f{i}\"), exist_ok=True)\n",
    "\n",
    "# 列出 files 資料夾的內容\n",
    "print(\"\\nFiles 目錄的內容：\")\n",
    "print(os.listdir(os.path.join(base_path, \"files\")))\n",
    "\n",
    "# 重命名 f1 為 folder1\n",
    "os.rename(os.path.join(base_path, \"files\", \"f1\"), os.path.join(base_path, \"files\", \"folder1\"))\n",
    "\n",
    "# 列出重新命名後的 files 資料夾內容\n",
    "print(\"\\nFiles 目錄的內容（重命名 f1 為 folder1 後）：\")\n",
    "print(os.listdir(os.path.join(base_path, \"files\")))\n",
    "\n",
    "# 刪除 folder1 資料夾\n",
    "os.rmdir(os.path.join(base_path, \"files\", \"folder1\"))\n",
    "\n",
    "# 列出刪除 folder1 後的 files 資料夾內容\n",
    "print(\"\\nFiles 目錄的內容（刪除 folder1 後）：\")\n",
    "print(os.listdir(os.path.join(base_path, \"files\")))\n",
    "\n",
    "# 刪除整個 files 資料夾（需要先退出 files 資料夾）\n",
    "# 退出到指定的目錄\n",
    "os.chdir(base_path)\n",
    "\n",
    "# 使用 shutil.rmtree 來遞歸刪除非空資料夾\n",
    "shutil.rmtree(os.path.join(base_path, \"files\"))\n",
    "\n",
    "print(\"\\n已經成功刪除 files 資料夾\")"
   ]
  },
  {
   "cell_type": "markdown",
   "metadata": {},
   "source": [
    "### 09 - 回文判斷（Is a palindrome）\n",
    "#### 請使用者輸入單字，判斷它是否為回文，也就是該單字前後對稱，例如 madam，從前讀到後或是從後讀到前的順序都是 madam。\n",
    "\n",
    "> 題目：<br>\n",
    "輸入(Input): 雨 滋 春 樹 碧 連 天  天 連 碧 樹 春 滋 雨 <br>\n",
    "輸出(Output):The text you have entered is a palindrome!<br>\n",
    "輸入(Input): 資工訓練班 <br>\n",
    "輸出(Output):The text you have entered is not a palindrome.\n"
   ]
  },
  {
   "cell_type": "code",
   "execution_count": 7,
   "metadata": {},
   "outputs": [
    {
     "name": "stdout",
     "output_type": "stream",
     "text": [
      "\n",
      "Palindrome checker\n"
     ]
    },
    {
     "name": "stdin",
     "output_type": "stream",
     "text": [
      "執行次數:  2\n",
      "請使用者輸入單字，判斷它是否為回文，也就是該單字前後對稱:  雨 滋 春 樹 碧 連 天 天 連 碧 樹 春 滋 雨\n"
     ]
    },
    {
     "name": "stdout",
     "output_type": "stream",
     "text": [
      "結果: 是回文!\n"
     ]
    },
    {
     "name": "stdin",
     "output_type": "stream",
     "text": [
      "請使用者輸入單字，判斷它是否為回文，也就是該單字前後對稱:  資工訓練班\n"
     ]
    },
    {
     "name": "stdout",
     "output_type": "stream",
     "text": [
      "結果: 不是回文.\n"
     ]
    }
   ],
   "source": [
    "def convertInputString():\n",
    "    # 請使用者輸入一串字串，先轉換字串為統一小寫\n",
    "    rawInput = input(\"請使用者輸入單字，判斷它是否為回文，也就是該單字前後對稱: \")\n",
    "    # 轉換為小寫\n",
    "    return rawInput.lower()\n",
    "\n",
    "def stripAnalphabetics(dirtyList):\n",
    "    # 去除標點符號和空格\n",
    "    analphabeticList = [\" \", \"-\", \".\", \",\", \":\", \";\", \"!\", \"?\", \"'\", \"\\\"\"]\n",
    "    for char in analphabeticList:\n",
    "        dirtyList = dirtyList.replace(char, \"\")  # 移除標點符號和空格\n",
    "    return dirtyList\n",
    "\n",
    "def runPalindromeCheck(straightList):\n",
    "    # 檢查是否為回文\n",
    "    reversedList = straightList[::-1]  # 反轉字串\n",
    "    if straightList == reversedList:  # 比較原字串與反轉後的字串\n",
    "        return \"是回文!\" \n",
    "    else: \n",
    "        return \"不是回文.\"\n",
    "\n",
    "def main(): \n",
    "    print(\"\\nPalindrome checker\")\n",
    "    \n",
    "    # 設定執行次數\n",
    "    n = int(input(\"執行次數: \"))  \n",
    "    \n",
    "    # 重複執行 n 次\n",
    "    for i in range(n):\n",
    "        # 取得並處理輸入\n",
    "        user_input = convertInputString()  # 轉換為小寫\n",
    "        stripped_input = stripAnalphabetics(user_input)  # 去除非字母數字字符\n",
    "        result = runPalindromeCheck(stripped_input)  # 檢查是否為回文\n",
    "        \n",
    "        # 顯示結果\n",
    "        print(f\"結果: {result}\")\n",
    "\n",
    "# 呼叫 main 函式啟動程式\n",
    "main()"
   ]
  },
  {
   "cell_type": "markdown",
   "metadata": {},
   "source": [
    "### 10 - 總成績計算\n",
    "#### 說明 ####\n",
    "\n",
    "請讀取 `data/english_list.csv`與`data/math_list.csv`檔案(`utf-8`)後，將每位同學的英文與數學成績加總起來，並將檔案寫入至 `./Score.csv`中，編碼成`utf-8`<br>\n",
    "最後列印出每位學生姓名與加總後的分數<br>\n",
    "<a href=\"data\\english_list.csv\">英文成績下載</a><br>\n",
    "<a href=\"data\\math_list.csv\">數學成績下載</a><br>\n",
    "\n",
    "#### Input Format ####\n",
    "\n",
    "<br>\n",
    "csv資料(英文成績)<br>\n",
    "csv資料(數學成績)<br>\n",
    "<br>\n",
    "\n",
    "#### Output Format ####\n",
    "\n",
    "<br>\n",
    "\n",
    "![](data\\05.JPG)<br>\n",
    "<br>\n",
    "<br>\n",
    "(圖片參考用 以文字敘述為準)<br>\n",
    "\n",
    "\n",
    "\n",
    "\n",
    "#### Sample Input 1####\n",
    "\n",
    "\n",
    "\n",
    "```\n",
    "無標準輸入，只有檔案輸入\n",
    "```\n",
    "\n",
    "\n",
    "\n",
    "#### Sample Output 1####\n",
    "\n",
    "\n",
    "```\n",
    "廖冠霖 142\n",
    "王力中 124\n",
    "張平舜 108\n",
    ".\n",
    ".\n",
    ".\n",
    ".\n",
    ".\n",
    "陳姿茜 77\n",
    "涂珮瑜 134\n",
    "夏明哲 111\n",
    "\n",
    "```\n",
    "\n",
    "\n",
    "#### Hint ####\n",
    "\n",
    "\n",
    "\n",
    "```\n",
    "None\n",
    "```\n"
   ]
  },
  {
   "cell_type": "code",
   "execution_count": 9,
   "metadata": {},
   "outputs": [
    {
     "name": "stdout",
     "output_type": "stream",
     "text": [
      "英文成績表欄位： Index(['學生姓名', '英文成績'], dtype='object')\n",
      "\n",
      "顯示最終成績：\n",
      "   學生姓名  英文成績  數學成績    總成績\n",
      "0   倪浩迪  74.0  89.0  163.0\n",
      "1   夏明哲  90.0  21.0  111.0\n",
      "2   姚成華  39.0  38.0   77.0\n",
      "3   廖冠霖  76.0  66.0  142.0\n",
      "4   張平舜  93.0  15.0  108.0\n",
      "5   彭曉雯  30.0  47.0   77.0\n",
      "6   李美一  42.0  22.0   64.0\n",
      "7   杜茜行  37.0  70.0  107.0\n",
      "8   林士雨   7.0  79.0   86.0\n",
      "9   林詩虹  92.0  86.0  178.0\n",
      "10  洪偉珊  81.0  53.0  134.0\n",
      "11  洪婷婷  46.0  82.0  128.0\n",
      "12  涂珮瑜  42.0  92.0  134.0\n",
      "13  游子揚  97.0  30.0  127.0\n",
      "14  潘詠月  58.0  86.0  144.0\n",
      "15  王亦夏  18.0  37.0   55.0\n",
      "16  王力中  51.0  73.0  124.0\n",
      "17  葉健仁  70.0  47.0  117.0\n",
      "18  賴軒年  97.0  70.0  167.0\n",
      "19  超大悲   0.0  10.0   10.0\n",
      "20  超大華   5.0   0.0    5.0\n",
      "21  郭奕全   7.0  94.0  101.0\n",
      "22  郭心怡  86.0  23.0  109.0\n",
      "23  陳姿茜  43.0  34.0   77.0\n",
      "24  陳宗翰  13.0  15.0   28.0\n",
      "25  陳常芝  22.0  58.0   80.0\n",
      "26  韓致遠   3.0  49.0   52.0\n",
      "27  顏又芹  27.0   5.0   32.0\n",
      "28  顏曉雲  94.0  41.0  135.0\n",
      "29  黃佩樺  34.0  74.0  108.0\n",
      "30  黃心卿  21.0  75.0   96.0\n",
      "31  黃政聖  75.0  24.0   99.0\n",
      "\n",
      "Student_score_list CSV 已更新，並且總成績已計算完畢。\n"
     ]
    }
   ],
   "source": [
    "import pandas as pd\n",
    "\n",
    "# 1. 新增一個 CSV 檔案並命名為 Student_score_list\n",
    "student_score_list_path = r\"C:\\Users\\a0986\\Python\\Unit01\\data\\Student_score_list.csv\"\n",
    "\n",
    "# 創建一個空的 DataFrame 作為學生成績表格，並寫入 CSV 檔案\n",
    "columns = ['學生姓名', '英文成績', '數學成績', '總成績']\n",
    "df_student_scores = pd.DataFrame(columns=columns)\n",
    "\n",
    "# 設定 encoding 參數以避免亂碼\n",
    "df_student_scores.to_csv(student_score_list_path, index=False, encoding=\"utf-8-sig\")\n",
    "\n",
    "# 2. 讀取同目錄下名稱為 english_list 的 CSV\n",
    "english_list_path = r\"C:\\Users\\a0986\\Python\\Unit01\\data\\english_list.csv\"\n",
    "df_english = pd.read_csv(english_list_path, encoding=\"utf-8-sig\")  # 設定 encoding\n",
    "\n",
    "# 加一行程式碼來檢查 CSV 的欄位名稱\n",
    "print(\"英文成績表欄位：\", df_english.columns)\n",
    "\n",
    "# 3. 讀取同目錄下名稱為 math_list 的 CSV\n",
    "math_list_path = r\"C:\\Users\\a0986\\Python\\Unit01\\data\\math_list.csv\"\n",
    "df_math = pd.read_csv(math_list_path, encoding=\"utf-8-sig\")  # 設定 encoding\n",
    "\n",
    "# 4. 先將兩份資料根據學生姓名合併\n",
    "df_combined = pd.merge(df_english[['學生姓名', '英文成績']], df_math[['學生姓名', '數學成績']], \n",
    "                       on='學生姓名', how='outer')  # 'outer' 表示即使某個學生沒有成績，也會保留\n",
    "\n",
    "# 5. 使用 fillna(0) 來填補缺失的成績為 0\n",
    "df_combined['英文成績'] = df_combined['英文成績'].fillna(0)\n",
    "df_combined['數學成績'] = df_combined['數學成績'].fillna(0)\n",
    "\n",
    "# 6. 將每位學生的數學成績與英文成績相加於 D 欄\n",
    "df_combined['總成績'] = df_combined['英文成績'] + df_combined['數學成績']\n",
    "\n",
    "# 7. 將最終結果寫入 Student_score_list.csv\n",
    "df_combined.to_csv(student_score_list_path, index=False, encoding=\"utf-8-sig\")\n",
    "\n",
    "# 8. 顯示 DataFrame，包含總成績在 Python 畫面上\n",
    "print(\"\\n顯示最終成績：\")\n",
    "print(df_combined)\n",
    "\n",
    "# 輸出結果\n",
    "print(\"\\nStudent_score_list CSV 已更新，並且總成績已計算完畢。\")"
   ]
  },
  {
   "cell_type": "code",
   "execution_count": null,
   "metadata": {},
   "outputs": [],
   "source": []
  }
 ],
 "metadata": {
  "kernelspec": {
   "display_name": "Python [conda env:base] *",
   "language": "python",
   "name": "conda-base-py"
  },
  "language_info": {
   "codemirror_mode": {
    "name": "ipython",
    "version": 3
   },
   "file_extension": ".py",
   "mimetype": "text/x-python",
   "name": "python",
   "nbconvert_exporter": "python",
   "pygments_lexer": "ipython3",
   "version": "3.12.7"
  }
 },
 "nbformat": 4,
 "nbformat_minor": 4
}
